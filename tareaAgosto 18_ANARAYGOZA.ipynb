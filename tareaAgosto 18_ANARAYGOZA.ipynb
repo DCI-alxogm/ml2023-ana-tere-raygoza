{
  "nbformat": 4,
  "nbformat_minor": 0,
  "metadata": {
    "colab": {
      "provenance": [],
      "authorship_tag": "ABX9TyNYRr+/BAFEctWfiKer4Cbm",
      "include_colab_link": true
    },
    "kernelspec": {
      "name": "python3",
      "display_name": "Python 3"
    },
    "language_info": {
      "name": "python"
    }
  },
  "cells": [
    {
      "cell_type": "markdown",
      "metadata": {
        "id": "view-in-github",
        "colab_type": "text"
      },
      "source": [
        "<a href=\"https://colab.research.google.com/github/DCI-alxogm/ml2023-ana-tere-raygoza/blob/main/tareaAgosto%2018_ANARAYGOZA.ipynb\" target=\"_parent\"><img src=\"https://colab.research.google.com/assets/colab-badge.svg\" alt=\"Open In Colab\"/></a>"
      ]
    },
    {
      "cell_type": "code",
      "source": [
        "import numpy as np\n",
        "import matplotlib.pyplot as plt\n",
        "import pandas as pd\n",
        "from sklearn.linear_model import LinearRegression\n",
        "from sklearn.metrics import mean_squared_error, r2_score"
      ],
      "metadata": {
        "id": "AHltVVP7Mr11"
      },
      "execution_count": 2,
      "outputs": []
    },
    {
      "cell_type": "code",
      "source": [
        "Documento = pd.read_csv(\"/content/sample_data/insurance.csv\")\n",
        "Documento.dropna(axis=0, inplace=True)\n",
        "print(Documento.info())\n",
        "reg_lin = LinearRegression()\n",
        "x = np.array(Documento[['age','bmi','children']])\n",
        "y = np.array(Documento['charges'])\n",
        "reg_lin.fit(x, y)\n",
        "y_predecida = reg_lin.predict(x)\n",
        "print('Ajuste para tres varibale')\n",
        "print('Coefficients: \\n', reg_lin.coef_)\n",
        "print(\"Mean squared error: %.2f\" % mean_squared_error(y, y_predecida))\n",
        "print('Variance score: %.2f' % r2_score(y, y_predecida))\n",
        "reg_lin2 = LinearRegression()\n",
        "x = np.array(Documento[['age','bmi']])\n",
        "y = np.array(Documento['charges'])\n",
        "reg_lin2.fit(x, y)\n",
        "y_predecida = reg_lin2.predict(x)\n",
        "print('Ajuste para dos varibale')\n",
        "print('Coefficients: \\n', reg_lin2.coef_)\n",
        "print(\"Mean squared error: %.2f\" % mean_squared_error(y, y_predecida))\n",
        "print('Variance score: %.2f' % r2_score(y, y_predecida))\n",
        "reg_lin3 = LinearRegression()\n",
        "x = np.array(Documento['age'])\n",
        "y = np.array(Documento['charges'])\n",
        "reg_lin3.fit(x.reshape(-1,1), y)\n",
        "y_predecida = reg_lin3.predict(x.reshape(-1,1))\n",
        "print('Ajuste para una varibale')\n",
        "print('Coefficients: \\n', reg_lin3.coef_)\n",
        "print(\"Mean squared error: %.2f\" % mean_squared_error(y, y_predecida))\n",
        "print('Variance score: %.2f' % r2_score(y, y_predecida))"
      ],
      "metadata": {
        "colab": {
          "base_uri": "https://localhost:8080/"
        },
        "id": "TNg30YNlNF_E",
        "outputId": "71baf738-1b36-452c-c239-79860743c48c"
      },
      "execution_count": 4,
      "outputs": [
        {
          "output_type": "stream",
          "name": "stdout",
          "text": [
            "<class 'pandas.core.frame.DataFrame'>\n",
            "RangeIndex: 1338 entries, 0 to 1337\n",
            "Data columns (total 7 columns):\n",
            " #   Column    Non-Null Count  Dtype  \n",
            "---  ------    --------------  -----  \n",
            " 0   age       1338 non-null   int64  \n",
            " 1   sex       1338 non-null   object \n",
            " 2   bmi       1338 non-null   float64\n",
            " 3   children  1338 non-null   int64  \n",
            " 4   smoker    1338 non-null   object \n",
            " 5   region    1338 non-null   object \n",
            " 6   charges   1338 non-null   float64\n",
            "dtypes: float64(2), int64(2), object(3)\n",
            "memory usage: 73.3+ KB\n",
            "None\n",
            "Ajuste para tres varibale\n",
            "Coefficients: \n",
            " [239.99447429 332.0833645  542.86465225]\n",
            "Mean squared error: 128943244.64\n",
            "Variance score: 0.12\n",
            "Ajuste para dos varibale\n",
            "Coefficients: \n",
            " [241.9307779  332.96509081]\n",
            "Mean squared error: 129370388.91\n",
            "Variance score: 0.12\n",
            "Ajuste para una varibale\n",
            "Coefficients: \n",
            " [257.72261867]\n",
            "Mean squared error: 133440978.61\n",
            "Variance score: 0.09\n"
          ]
        }
      ]
    }
  ]
}