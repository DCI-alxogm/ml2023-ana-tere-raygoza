{
  "nbformat": 4,
  "nbformat_minor": 0,
  "metadata": {
    "colab": {
      "provenance": [],
      "include_colab_link": true
    },
    "kernelspec": {
      "name": "python3",
      "display_name": "Python 3"
    },
    "language_info": {
      "name": "python"
    }
  },
  "cells": [
    {
      "cell_type": "markdown",
      "metadata": {
        "id": "view-in-github",
        "colab_type": "text"
      },
      "source": [
        "<a href=\"https://colab.research.google.com/github/DCI-alxogm/ml2023-ana-tere-raygoza/blob/main/Ago11-12/TareaSabado.ipynb\" target=\"_parent\"><img src=\"https://colab.research.google.com/assets/colab-badge.svg\" alt=\"Open In Colab\"/></a>"
      ]
    },
    {
      "cell_type": "code",
      "execution_count": null,
      "metadata": {
        "id": "aa_lI8A8TWUx"
      },
      "outputs": [],
      "source": [
        "import pandas as pd\n",
        "import numpy as np\n",
        "import matplotlib.pyplot as plt\n",
        "from array import *"
      ]
    },
    {
      "cell_type": "code",
      "source": [
        "#Creando un dataframe\n",
        "prueba = pd.DataFrame()\n",
        "prueba['Nombre'] = ['Jose', 'Vania', 'Alex', 'Teresa']\n",
        "prueba['Apellido'] = ['Aguirre', 'Aguilar', 'Pérez', 'Martinez']\n",
        "prueba['sexo'] = ['M', 'F', 'M', 'F']\n",
        "prueba['edad'] = [23, 15, 20, 45]\n",
        "prueba.info()"
      ],
      "metadata": {
        "colab": {
          "base_uri": "https://localhost:8080/"
        },
        "id": "vzfxhaT8T3cm",
        "outputId": "7ce7a259-c400-4f10-8a10-636a865feb4d"
      },
      "execution_count": null,
      "outputs": [
        {
          "output_type": "stream",
          "name": "stdout",
          "text": [
            "<class 'pandas.core.frame.DataFrame'>\n",
            "RangeIndex: 4 entries, 0 to 3\n",
            "Data columns (total 4 columns):\n",
            " #   Column    Non-Null Count  Dtype \n",
            "---  ------    --------------  ----- \n",
            " 0   Nombre    4 non-null      object\n",
            " 1   Apellido  4 non-null      object\n",
            " 2   sexo      4 non-null      object\n",
            " 3   edad      4 non-null      int64 \n",
            "dtypes: int64(1), object(3)\n",
            "memory usage: 256.0+ bytes\n"
          ]
        }
      ]
    },
    {
      "cell_type": "code",
      "source": [
        "#Calcular informacion agrupada por sexo.\n",
        "print(prueba[['edad','sexo']].groupby('sexo').mean())\n",
        "print(prueba[['edad','sexo']].groupby('sexo').min())\n",
        "print(prueba[['edad','sexo']].groupby('sexo').max())"
      ],
      "metadata": {
        "colab": {
          "base_uri": "https://localhost:8080/"
        },
        "id": "VCuk03u0Vh_R",
        "outputId": "0b54646b-ed35-4147-aea7-86741b3a19a4"
      },
      "execution_count": null,
      "outputs": [
        {
          "output_type": "stream",
          "name": "stdout",
          "text": [
            "      edad\n",
            "sexo      \n",
            "F     30.0\n",
            "M     21.5\n",
            "      edad\n",
            "sexo      \n",
            "F       15\n",
            "M       20\n",
            "      edad\n",
            "sexo      \n",
            "F       45\n",
            "M       23\n"
          ]
        }
      ]
    },
    {
      "cell_type": "code",
      "source": [
        "#buscar informacion por etiquetas\n",
        "mask = prueba['edad'] < 30\n",
        "print(prueba[mask])\n",
        "print(prueba[prueba['Nombre']=='Jose'])"
      ],
      "metadata": {
        "colab": {
          "base_uri": "https://localhost:8080/"
        },
        "id": "H0qQ7Y00Xfv2",
        "outputId": "456dbd6c-8e09-4102-b67c-04c8e05cefa0"
      },
      "execution_count": null,
      "outputs": [
        {
          "output_type": "stream",
          "name": "stdout",
          "text": [
            "  Nombre Apellido sexo  edad\n",
            "0   Jose  Aguirre    M    23\n",
            "1  Vania  Aguilar    F    15\n",
            "2   Alex    Pérez    M    20\n",
            "  Nombre Apellido sexo  edad\n",
            "0   Jose  Aguirre    M    23\n"
          ]
        }
      ]
    },
    {
      "cell_type": "code",
      "source": [
        "#Manipulacion con Nunmpy\n",
        "x = np.zeros(5)\n",
        "print(x)\n",
        "x = np.ones(5)\n",
        "print(x)\n",
        "x = np.random.rand(5)\n",
        "print(x)\n",
        "y = np.random.rand(5)\n",
        "print(y)\n",
        "print('Division de Arrays:', x / y)\n",
        "print('Multiplicación de Arrays:', x * y)\n",
        "print('Suma de Arrays:', x + y)\n",
        "print('Resta de Arrays:', x - y)"
      ],
      "metadata": {
        "colab": {
          "base_uri": "https://localhost:8080/"
        },
        "id": "mgUnB-r6Zrp3",
        "outputId": "3b376756-f8fb-44ed-b5f4-86a4e4e892a4"
      },
      "execution_count": null,
      "outputs": [
        {
          "output_type": "stream",
          "name": "stdout",
          "text": [
            "[0. 0. 0. 0. 0.]\n",
            "[1. 1. 1. 1. 1.]\n",
            "[0.38364888 0.81800241 0.68543108 0.19681844 0.3647071 ]\n",
            "[0.60372157 0.30018306 0.43804555 0.60644203 0.5350602 ]\n",
            "Division de Arrays: [0.6354732  2.72501195 1.56474842 0.32454617 0.68161883]\n",
            "Multiplicación de Arrays: [0.2316171  0.24555046 0.30025004 0.11935897 0.19514026]\n",
            "Suma de Arrays: [0.98737045 1.11818547 1.12347663 0.80326047 0.8997673 ]\n",
            "Resta de Arrays: [-0.2200727   0.51781936  0.24738553 -0.40962359 -0.17035309]\n"
          ]
        }
      ]
    },
    {
      "cell_type": "code",
      "source": [
        "#Aplicando Matplotlib a una funcion sencilla\n",
        "def U_n(x, n):\n",
        "    a = 1\n",
        "    s = 0\n",
        "    v = array('f',[0]*100)\n",
        "    for i in range(n):\n",
        "      s = (np.sin(np.pi*n*x) / (np.pi*x)) * (np.sin(np.pi*n*x) / (np.pi*x))\n",
        "    return s\n",
        "\n",
        "\n",
        "color=['green','red','blue','white','brown','gold','black','pink']\n",
        "a = 1\n",
        "m = 1, 3, 5, 8, 10, 15, 20, 30\n",
        "dx = 0.001\n",
        "xi = -a / 2\n",
        "xf = a / 2\n",
        "x1 = np.arange(xi, xf, dx)\n",
        "f = np.vectorize(U_n)\n",
        "for i in range(8):\n",
        "  y = f(x1, m[i])\n",
        "  plt.plot(x1, y, color[i])\n",
        "plt.xlabel('x')\n",
        "plt.ylabel('y')\n",
        "plt.title('Delta de Dirac')\n",
        "plt.show()"
      ],
      "metadata": {
        "colab": {
          "base_uri": "https://localhost:8080/",
          "height": 472
        },
        "id": "7IOLvnbkbt5S",
        "outputId": "13659515-6380-4210-a6b4-0b8ba09c16fb"
      },
      "execution_count": null,
      "outputs": [
        {
          "output_type": "display_data",
          "data": {
            "text/plain": [
              "<Figure size 640x480 with 1 Axes>"
            ],
            "image/png": "[encoded data removed]"
          },
          "metadata": {}
        }
      ]
    }
  ]
}